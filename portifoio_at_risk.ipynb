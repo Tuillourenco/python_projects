{
 "cells": [
  {
   "cell_type": "code",
   "execution_count": 5,
   "metadata": {},
   "outputs": [],
   "source": [
    "# Import the libraries.\n",
    "%matplotlib inline\n",
    "import pandas as pd\n",
    "import numpy as np\n",
    "from scipy.stats import norm\n",
    "import matplotlib.pyplot as plt\n",
    "\n",
    "import yfinance as yf"
   ]
  },
  {
   "cell_type": "markdown",
   "metadata": {},
   "source": [
    "### Define the variables"
   ]
  },
  {
   "cell_type": "code",
   "execution_count": 13,
   "metadata": {},
   "outputs": [],
   "source": [
    "# Creating the portfolio for investigating.\n",
    "tickers = ['RY', 'BAM', 'TRP', 'CP']\n",
    "\n",
    "# Pick the wights of each stock (must add to 1)\n",
    "weights = np.array([0.15, 0.4, 0.15, 0.30])\n",
    "\n",
    "# Size of portfolio.\n",
    "portfolio_value = 1_000\n",
    "\n",
    "# Risk accepted from the confidence of results (98%).\n",
    "confidence = 0.02"
   ]
  },
  {
   "cell_type": "code",
   "execution_count": 14,
   "metadata": {},
   "outputs": [
    {
     "name": "stdout",
     "output_type": "stream",
     "text": [
      "[*********************100%***********************]  4 of 4 completed\n"
     ]
    }
   ],
   "source": [
    "# Getting all the stock data from blue chips.\n",
    "blue_chips = yf.download(tickers, start='2019-01-01', end='2022-07-31')[\"Close\"]"
   ]
  },
  {
   "cell_type": "markdown",
   "metadata": {},
   "source": [
    "### Determining the portfolio statistics."
   ]
  },
  {
   "cell_type": "code",
   "execution_count": 15,
   "metadata": {},
   "outputs": [],
   "source": [
    "# Getting the daily returns of each stock.\n",
    "returns = blue_chips.pct_change()\n",
    "\n",
    "# Getting the daily mean of each stock\n",
    "mean_returns = returns.mean()\n",
    "\n",
    "# Getting the portifolio mean.\n",
    "port_mean = mean_returns.dot(weights)\n",
    "\n",
    "# Getting mean of investment returns.\n",
    "investment_mean = (1 + port_mean) * portfolio_value\n",
    "\n",
    "# Compute portifolio covariance matrix.\n",
    "cov_matrix = returns.cov()\n",
    "\n",
    "# Getting standard variation.\n",
    "port_stdev = np.sqrt(weights.T.dot(cov_matrix).dot(weights))\n",
    "\n",
    "# Standard deviation of investments returns.\n",
    "investment_stdev = portfolio_value * port_stdev"
   ]
  },
  {
   "cell_type": "markdown",
   "metadata": {},
   "source": [
    "### Computing Value at Risk"
   ]
  },
  {
   "cell_type": "code",
   "execution_count": 16,
   "metadata": {},
   "outputs": [],
   "source": [
    "# ppf takes a percentage and returns a standard deviation \n",
    "# multiplier for what value that percentage occurs at.\n",
    "# It is equivalent to a one-tail test on the density plot.\n",
    "percent_point = norm.ppf(confidence, investment_mean, investment_stdev)"
   ]
  },
  {
   "cell_type": "code",
   "execution_count": 17,
   "metadata": {},
   "outputs": [
    {
     "data": {
      "text/plain": [
       "'Portfolio VaR: 33.24516263077612'"
      ]
     },
     "execution_count": 17,
     "metadata": {},
     "output_type": "execute_result"
    }
   ],
   "source": [
    "# calculate the VaR at the confidence interval\n",
    "value_at_risk = portfolio_value - percent_point\n",
    "\n",
    "# print it out\n",
    "f\"Portfolio VaR: {value_at_risk}\""
   ]
  },
  {
   "cell_type": "code",
   "execution_count": 18,
   "metadata": {},
   "outputs": [],
   "source": [
    "# Multiply the one-day VaR by the square root of one (day) through the square root of 30 (days).\n",
    "value_at_risks = value_at_risk * np.sqrt(range(1, 31))"
   ]
  },
  {
   "cell_type": "code",
   "execution_count": 19,
   "metadata": {},
   "outputs": [
    {
     "data": {
      "text/plain": [
       "[<matplotlib.lines.Line2D at 0x276cb67fd60>]"
      ]
     },
     "execution_count": 19,
     "metadata": {},
     "output_type": "execute_result"
    },
    {
     "data": {
      "image/png": "[encoded data removed]",
      "text/plain": [
       "<Figure size 432x288 with 1 Axes>"
      ]
     },
     "metadata": {
      "needs_background": "light"
     },
     "output_type": "display_data"
    }
   ],
   "source": [
    "# Now, it's time to plot the results\n",
    "# build plot of VaR over time\n",
    "plt.xlabel(\"Day\")\n",
    "plt.ylabel(\"Max loss\")\n",
    "plt.title(\"Portfolio VaR\")\n",
    "plt.plot(value_at_risks, \"r\")"
   ]
  },
  {
   "cell_type": "code",
   "execution_count": null,
   "metadata": {},
   "outputs": [],
   "source": []
  }
 ],
 "metadata": {
  "kernelspec": {
   "display_name": "Python 3.9.12 ('PythonData')",
   "language": "python",
   "name": "python3"
  },
  "language_info": {
   "codemirror_mode": {
    "name": "ipython",
    "version": 3
   },
   "file_extension": ".py",
   "mimetype": "text/x-python",
   "name": "python",
   "nbconvert_exporter": "python",
   "pygments_lexer": "ipython3",
   "version": "3.9.12"
  },
  "orig_nbformat": 4,
  "vscode": {
   "interpreter": {
    "hash": "95f1a3bdb44a8cc08f59612d0b63763727003c78c86dd001649059d2256545e7"
   }
  }
 },
 "nbformat": 4,
 "nbformat_minor": 2
}
